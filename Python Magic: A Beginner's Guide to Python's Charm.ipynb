{
 "cells": [
  {
   "cell_type": "markdown",
   "metadata": {},
   "source": [
    "\n",
    "\n",
    "\n",
    "\n",
    "\n",
    "\n",
    "\n",
    "# Python Magic: A Beginner's Guide to Python's Charm:\n",
    "\n",
    "Welcome to this Python notebook! Here, we'll explore Python Language in a simple and exciting way. Whether you're new to coding or have some experience, this notebook will make Python more fun and productive for you. Let's dive in and learn Python together! 🚀🐍\n",
    "\\\n",
    "\\\n",
    "\\\n",
    "\\\n",
    "Author: Abdul Rehman\\\n",
    "Date:   15-September-2023\n",
    "\n",
    "[![Email](https://img.shields.io/badge/Gmail-Contact-red)](mailto:inboxx.abdulrehman@gamil.com)&nbsp;&nbsp;\n",
    "[![LinkedIn](https://img.shields.io/badge/LinkedIn-Connect-blue)](http://www.linkedin.com/in/abdul-rehman-052292271)&nbsp;&nbsp;\n",
    "[![Twitter](https://img.shields.io/badge/Twitter-Follow-blue)](https://twitter.com/AbdulRehman_twt)&nbsp;&nbsp;\n",
    "[![GitHub](https://img.shields.io/badge/GitHub-Follow-lightgrey)](https://github.com/AbdulRehman-git?tab=repositories)&nbsp;"
   ]
  },
  {
   "cell_type": "markdown",
   "metadata": {},
   "source": [
    "# Table of Contents:\n",
    "\n",
    "[1- Operators](#01--operators-in-python)\\\n",
    "[2- Variables](#02--variables-in-python)\\\n",
    "[3- DataTypes](#03--datatypes)\\\n",
    "[4- Strings](#04--strings)\\\n",
    "[5- Take Inputs in Python](#05--taking-input-in-python)\\\n",
    "[5- Type Conversion](#06--type-conversion)\\\n",
    "[7- If esle Statement](#07--if-esle-statement)\\\n",
    "[8- If elif Statement](#08--if-elif-statement)\\\n",
    "[9- Loops](#09--loops)\\\n",
    "[10- Functions](#10--functions)\\\n",
    "[11- File I/O](#11--file-io)\\\n",
    "[12- Error Handling](#12)\n"
   ]
  },
  {
   "cell_type": "markdown",
   "metadata": {},
   "source": [
    "## 01-   Operators in Python:"
   ]
  },
  {
   "cell_type": "markdown",
   "metadata": {},
   "source": [
    "\n",
    "\n",
    "\n",
    "\n",
    "\n",
    "\n",
    "\n",
    "\n",
    "\n",
    "\n",
    "\n",
    "\n",
    "\n",
    "\n",
    "\n",
    "\n",
    "\n",
    "\n",
    "\n",
    "\n",
    "\n",
    "\n",
    "\n",
    "\n",
    "\n",
    "\n",
    "\n",
    "\n",
    "\n",
    "\n",
    "\n",
    "\n",
    "\n",
    "\n",
    "\n",
    ">### Arithmatic Operators\n",
    "- Addition ( + ): Adds two values\n",
    "- Subtraction ( - ): Subtracts the second value from the first value\n",
    "- Multiplication ( * ): Multiplies two values\n",
    "- Division ( / ): Divides the first value by the second value and returns a float\n",
    "- Floor division ( // ): Divides the first value by the second value and returns an integer (rounded down)\n",
    "- Modulus ( % ): Returns the remainder of the division of the first value by the second value\n",
    "- Exponentiation ( ** ): Raises the first value to the power of the second value"
   ]
  },
  {
   "cell_type": "code",
   "execution_count": null,
   "metadata": {},
   "outputs": [],
   "source": [
    "# Addition\n",
    "x = 5 + 3  # x is 8\n",
    "\n",
    "# Subtraction\n",
    "y = 7 - 2  # y is 5\n",
    "\n",
    "# Multiplication\n",
    "z = 4 * 6  # z is 24\n",
    "\n",
    "# Division\n",
    "a = 10 / 2  # a is 5.0 (float)\n",
    "\n",
    "# Floor division\n",
    "b = 10 // 3  # b is 3 (integer)\n",
    "\n",
    "# Modulus\n",
    "c = 10 % 3  # c is 1 (remainder)\n",
    "\n",
    "# Exponentiation\n",
    "d = 2 ** 3  # d is 8"
   ]
  },
  {
   "cell_type": "markdown",
   "metadata": {},
   "source": [
    ">### Comparison Operators:\n",
    "- Equal to ( == ): Returns True if the first value is equal to the second value, otherwise False\n",
    "- Not equal to ( != ): Returns True if the first value is not equal to the second value, otherwise False\n",
    "- Greater than ( > ): Returns True if the first value is greater than the second value, otherwise False\n",
    "- Less than ( < ): Returns True if the first value is less than the second value, otherwise False\n",
    "- Greater than or equal to ( >= ): Returns True if the first value is greater than or equal to the second value, otherwise False\n",
    "- Less than or equal to ( <= ): Returns True if the first value is less than or equal to the second value, otherwise False"
   ]
  },
  {
   "cell_type": "code",
   "execution_count": 2,
   "metadata": {},
   "outputs": [
    {
     "data": {
      "text/plain": [
       "False"
      ]
     },
     "execution_count": 2,
     "metadata": {},
     "output_type": "execute_result"
    }
   ],
   "source": [
    "# Equal to\n",
    "x == y  # False\n",
    "\n",
    "# Not equal to\n",
    "x != y  # True\n",
    "\n",
    "# Greater than\n",
    "x > y  # True\n",
    "\n",
    "# Less than\n",
    "x < y  # False\n",
    "\n",
    "# Greater than or equal to\n",
    "x >= y  # True\n",
    "\n",
    "# Less than or equal to\n",
    "x <= y  # False"
   ]
  },
  {
   "cell_type": "markdown",
   "metadata": {},
   "source": [
    ">### Logical Operators:\n",
    "- AND ( and ): Returns True if both the first and second values are True, otherwise False\n",
    "- OR ( or ): Returns True if either the first or second value is True, otherwise False\n",
    "- NOT ( not ): Returns True if the first value is False, otherwise False"
   ]
  },
  {
   "cell_type": "code",
   "execution_count": 3,
   "metadata": {},
   "outputs": [
    {
     "data": {
      "text/plain": [
       "False"
      ]
     },
     "execution_count": 3,
     "metadata": {},
     "output_type": "execute_result"
    }
   ],
   "source": [
    "# AND\n",
    "x > 0 and y < 10  # True\n",
    "\n",
    "# OR\n",
    "x < 0 or y > 10  # False\n",
    "\n",
    "# NOT\n",
    "not(x > 0 and y < 10)  # False"
   ]
  },
  {
   "cell_type": "markdown",
   "metadata": {},
   "source": [
    "## 02- Variables in Python:"
   ]
  },
  {
   "cell_type": "markdown",
   "metadata": {},
   "source": [
    ">### Defining variables:\n",
    "- We can define variables in Python by simply assigning a value to a variable name\n",
    "- The value can be of any data type such as integer, string, float, etc."
   ]
  },
  {
   "cell_type": "code",
   "execution_count": 4,
   "metadata": {},
   "outputs": [],
   "source": [
    "x = 5  # Here, we define a variable x with value 5\n",
    "y = \"Hello, World!\"  # Here, we define a variable y with value \"Hello, World!\"\n",
    "z = 3.14  # Here, we define a variable z with value 3.14"
   ]
  },
  {
   "cell_type": "markdown",
   "metadata": {},
   "source": [
    "\n",
    "\n",
    "In the above code, we define three variables `x`, `y`, and `z` with values `5`, `\"Hello, World!\"`, and `3.14`, respectively. We can define variables in Python by simply assigning a value to a variable name. The value can be of any data type such as integer, string, float, etc.\n",
    "\n",
    "Here's an example of how to print the values of variables in Python:\n",
    "\n"
   ]
  },
  {
   "cell_type": "code",
   "execution_count": 5,
   "metadata": {},
   "outputs": [
    {
     "name": "stdout",
     "output_type": "stream",
     "text": [
      "5\n",
      "Hello, World!\n",
      "3.14\n"
     ]
    }
   ],
   "source": [
    "# Printing variables\n",
    "# We can print the values of variables in Python using the print() function\n",
    "print(x)  # This will print the value of x (which is 5)\n",
    "print(y)  # This will print the value of y (which is \"Hello, World!\")\n",
    "print(z)  # This will print the value of z (which is 3.14)"
   ]
  },
  {
   "cell_type": "markdown",
   "metadata": {},
   "source": [
    ">### Rules for Naming Variables:\n",
    "In Python, there are some rules for naming variables:\n",
    "- Variable names can only contain letters (a-z, A-Z), digits (0-9), and underscores (_).\n",
    "- Variable names cannot start with a digit.\n",
    "- Variable names are case-sensitive (e.g. `myVar` and `myvar` are two different variables).\n",
    "- Variable names should be descriptive and not too long (e.g. `age` is better than `a` or `person_age_in_years`).\n",
    "- Variable names should not be the same as Python keywords (e.g. `if`, `else`, `while`, etc.).\n",
    "\n",
    "Here's an example of how to define variables with valid names in Python:"
   ]
  },
  {
   "cell_type": "code",
   "execution_count": 6,
   "metadata": {},
   "outputs": [],
   "source": [
    "# Defining variables with valid names\n",
    "my_var = 5\n",
    "myVar = \"Hello, World!\"\n",
    "my_var_2 = 3.14"
   ]
  },
  {
   "cell_type": "markdown",
   "metadata": {},
   "source": [
    "\n",
    "\n",
    "In the above code, we define three variables `my_var`, `myVar`, and `my_var_2` with values `5`, `\"Hello, World!\"`, and `3.14`, respectively. All variable names follow the rules for naming variables in Python."
   ]
  },
  {
   "cell_type": "markdown",
   "metadata": {},
   "source": [
    "## 03- DataTypes"
   ]
  },
  {
   "cell_type": "markdown",
   "metadata": {},
   "source": [
    "In Python, there are several built-in data types:\n",
    "- Numeric types: `int`, `float`, `complex`\n",
    "- Sequence types: `list`, `tuple`, `range`\n",
    "- Text type: `str`\n",
    "- Mapping type: `dict`\n",
    "- Set types: `set`, `frozenset`\n",
    "- Boolean type: `bool`\n",
    "- Binary types: `bytes`, `bytearray`, `memoryview`\n",
    "\n",
    "Here's an example of how to check the data type of a variable in Python:\n",
    "\n"
   ]
  },
  {
   "cell_type": "code",
   "execution_count": 7,
   "metadata": {},
   "outputs": [
    {
     "name": "stdout",
     "output_type": "stream",
     "text": [
      "<class 'int'>\n",
      "<class 'float'>\n",
      "<class 'str'>\n"
     ]
    }
   ],
   "source": [
    "# Checking data type\n",
    "x = 5\n",
    "print(type(x))  # This will print \"<class 'int'>\"\n",
    "\n",
    "y = 3.14\n",
    "print(type(y))  # This will print \"<class 'float'>\"\n",
    "\n",
    "z = \"Hello, World!\"\n",
    "print(type(z))  # This will print \"<class 'str'>\""
   ]
  },
  {
   "cell_type": "markdown",
   "metadata": {},
   "source": [
    "## 04- Strings"
   ]
  },
  {
   "cell_type": "markdown",
   "metadata": {},
   "source": [
    ">### Defining strings\n",
    "- We can define strings in Python by enclosing text in single quotes ('') or double quotes (\"\")"
   ]
  },
  {
   "cell_type": "code",
   "execution_count": 8,
   "metadata": {},
   "outputs": [],
   "source": [
    "my_string = \"Hello, World!\"  # Here, we define a string variable my_string with value \"Hello, World!\""
   ]
  },
  {
   "cell_type": "markdown",
   "metadata": {},
   "source": [
    ">### Accessing characters in a string\n",
    "- We can access individual characters in a string using indexing\n",
    "- Indexing starts from 0 for the first character and goes up to n-1 for the nth character"
   ]
  },
  {
   "cell_type": "code",
   "execution_count": 9,
   "metadata": {},
   "outputs": [
    {
     "name": "stdout",
     "output_type": "stream",
     "text": [
      "H\n",
      " \n"
     ]
    }
   ],
   "source": [
    "print(my_string[0])  # This will print \"H\"\n",
    "print(my_string[6])  # This will print \"W\""
   ]
  },
  {
   "cell_type": "markdown",
   "metadata": {},
   "source": [
    ">### Slicing a string\n",
    "- We can slice a string to get a substring using the syntax [start:end]\n",
    "- This will return a substring starting from the start index and going up to (but not including) the end index"
   ]
  },
  {
   "cell_type": "code",
   "execution_count": 10,
   "metadata": {},
   "outputs": [
    {
     "name": "stdout",
     "output_type": "stream",
     "text": [
      "Hello\n",
      "World!\n"
     ]
    }
   ],
   "source": [
    "print(my_string[0:5])  # This will print \"Hello\"\n",
    "print(my_string[7:])  # This will print \"World!\""
   ]
  },
  {
   "cell_type": "markdown",
   "metadata": {},
   "source": [
    ">### Concatenating strings\n",
    "- We can concatenate two or more strings using the + operator"
   ]
  },
  {
   "cell_type": "code",
   "execution_count": 11,
   "metadata": {},
   "outputs": [
    {
     "name": "stdout",
     "output_type": "stream",
     "text": [
      "Hello, John!\n"
     ]
    }
   ],
   "source": [
    "greeting = \"Hello\"\n",
    "name = \"John\"\n",
    "message = greeting + \", \" + name + \"!\"\n",
    "print(message)  # This will print \"Hello, John!\""
   ]
  },
  {
   "cell_type": "markdown",
   "metadata": {},
   "source": [
    ">### String Methods\n",
    "- Strings have several built-in methods that can be used to manipulate them.\n",
    "\n",
    "Here are some common string methods in Python:\n",
    "\n",
    "- `upper()`: Returns a string in all uppercase letters.\n",
    "- `lower()`: Returns a string in all lowercase letters.\n",
    "- `capitalize()`: Returns a string with the first letter capitalized and the rest in lowercase.\n",
    "- `title()`: Returns a string with the first letter of each word capitalized.\n",
    "- `strip()`: Returns a string with leading and trailing whitespace removed.\n",
    "- `replace()`: Returns a string with all occurrences of a specified substring replaced with another substring.\n",
    "- `split()`: Returns a list of substrings separated by a specified delimiter.\n",
    "- `join()`: Joins the elements of an iterable (e.g. a list) into a string using a specified separator.\n"
   ]
  },
  {
   "cell_type": "code",
   "execution_count": 12,
   "metadata": {},
   "outputs": [
    {
     "name": "stdout",
     "output_type": "stream",
     "text": [
      "HELLO, WORLD!\n",
      "hello, world!\n",
      "Hello, world!\n",
      "Hello, World!\n",
      "hello, world!\n",
      "hello, Python!\n",
      "['hello', ' world!']\n",
      "hello-world\n"
     ]
    }
   ],
   "source": [
    "# Examples of string methods in Python\n",
    "\n",
    "# upper(): Returns a string in all uppercase letters.\n",
    "s = \"hello, world!\"\n",
    "print(s.upper())  # \"HELLO, WORLD!\"\n",
    "\n",
    "# lower(): Returns a string in all lowercase letters.\n",
    "s = \"HELLO, WORLD!\"\n",
    "print(s.lower())  # \"hello, world!\"\n",
    "\n",
    "# capitalize(): Returns a string with the first letter capitalized and the rest in lowercase.\n",
    "s = \"hello, world!\"\n",
    "print(s.capitalize())  # \"Hello, world!\"\n",
    "\n",
    "# title(): Returns a string with the first letter of each word capitalized.\n",
    "s = \"hello, world!\"\n",
    "print(s.title())  # \"Hello, World!\"\n",
    "\n",
    "# strip(): Returns a string with leading and trailing whitespace removed.\n",
    "s = \"   hello, world!   \"\n",
    "print(s.strip())  # \"hello, world!\"\n",
    "\n",
    "# replace(): Returns a string with all occurrences of a specified substring replaced with another substring.\n",
    "s = \"hello, world!\"\n",
    "print(s.replace(\"world\", \"Python\"))  # \"hello, Python!\"\n",
    "\n",
    "# split(): Returns a list of substrings separated by a specified delimiter.\n",
    "s = \"hello, world!\"\n",
    "print(s.split(\",\"))  # [\"hello\", \" world!\"]\n",
    "\n",
    "# join(): Joins the elements of an iterable (e.g. a list) into a string using a specified separator.\n",
    "words = [\"hello\", \"world\"]\n",
    "print(\"-\".join(words))  # \"hello-world\""
   ]
  },
  {
   "cell_type": "markdown",
   "metadata": {},
   "source": [
    "## 05- Taking Input in Python\n",
    "\n",
    "- We can take input from the user using the input() function"
   ]
  },
  {
   "cell_type": "code",
   "execution_count": 13,
   "metadata": {},
   "outputs": [
    {
     "name": "stdout",
     "output_type": "stream",
     "text": [
      "Hello, Abdul Rehman!\n"
     ]
    }
   ],
   "source": [
    "name = input(\"What is your name? \")  # This will prompt the user to enter their name\n",
    "print(\"Hello, \" + name + \"!\")  # This will print a greeting message with the user's name"
   ]
  },
  {
   "cell_type": "markdown",
   "metadata": {},
   "source": [
    "\n",
    "\n",
    "In the above code, we use the `input()` function to take input from the user. The `input()` function takes a prompt message as an argument, which is displayed to the user. The user can then enter a value, which is returned by the `input()` function as a string. We store the user's input in a variable `name` and then print a greeting message with the user's name.\n",
    "\n",
    "**Note** that the `input()` function always returns a string, so if you want to take input as a different data type (e.g. integer), you need to convert it using the appropriate data type conversion function (e.g. `int()`). Here's an example:\n",
    "\n"
   ]
  },
  {
   "cell_type": "markdown",
   "metadata": {},
   "source": [
    ">### Taking input as integer:"
   ]
  },
  {
   "cell_type": "code",
   "execution_count": 14,
   "metadata": {},
   "outputs": [
    {
     "name": "stdout",
     "output_type": "stream",
     "text": [
      "You will be 34 in 10 years.\n"
     ]
    }
   ],
   "source": [
    "age = int(input(\"What is your age? \"))  # This will prompt the user to enter their age as an integer\n",
    "print(\"You will be \" + str(age + 10) + \" in 10 years.\")  # This will print a message with the user's age after 10 years"
   ]
  },
  {
   "cell_type": "markdown",
   "metadata": {},
   "source": [
    "\n",
    "\n",
    "In the above code, we use the `int()` function to convert the user's input to an integer. We then perform some arithmetic operations on the integer and print a message with the result. Note that we need to convert the integer back to a string using the `str()` function before concatenating it with other strings."
   ]
  },
  {
   "cell_type": "markdown",
   "metadata": {},
   "source": [
    "## 06- Type Conversion:"
   ]
  },
  {
   "cell_type": "markdown",
   "metadata": {},
   "source": [
    "- We can convert one data type to another using type conversion functions"
   ]
  },
  {
   "cell_type": "code",
   "execution_count": 15,
   "metadata": {},
   "outputs": [
    {
     "name": "stdout",
     "output_type": "stream",
     "text": [
      "My name is John and I am 30 years old.\n"
     ]
    }
   ],
   "source": [
    "# Converting to integer\n",
    "x = int(3.14)  # This will convert the float value 3.14 to an integer value 3\n",
    "y = int(\"5\")  # This will convert the string value \"5\" to an integer value 5\n",
    "\n",
    "# Converting to float\n",
    "a = float(5)  # This will convert the integer value 5 to a float value 5.0\n",
    "b = float(\"3.14\")  # This will convert the string value \"3.14\" to a float value 3.14\n",
    "\n",
    "# Converting to string\n",
    "name = \"John\"\n",
    "age = 30\n",
    "message = \"My name is \" + name + \" and I am \" + str(age) + \" years old.\"  # This will convert the integer value age to a string value\n",
    "print(message)"
   ]
  },
  {
   "cell_type": "markdown",
   "metadata": {},
   "source": [
    "\n",
    "\n",
    "In the above code, we use type conversion functions to convert one data type to another. We use the `int()` function to convert a float value and a string value to integer values. We use the `float()` function to convert an integer value and a string value to float values. We use the `str()` function to convert an integer value to a string value so that we can concatenate it with other strings.\n",
    "\n",
    "Note that type conversion functions may raise errors if the input value cannot be converted to the desired data type. For example, trying to convert a string value that does not represent a valid integer or float, value to an integer or float value will raise a `ValueError` exception."
   ]
  },
  {
   "cell_type": "markdown",
   "metadata": {},
   "source": [
    "## 07- If esle Statement:\n",
    "\n",
    "- We can use if-else statements to execute different code blocks based on a condition"
   ]
  },
  {
   "cell_type": "code",
   "execution_count": 16,
   "metadata": {},
   "outputs": [
    {
     "name": "stdout",
     "output_type": "stream",
     "text": [
      "x is positive\n"
     ]
    }
   ],
   "source": [
    "# Here's an example:\n",
    "\n",
    "x = 5\n",
    "if x > 0:\n",
    "    print(\"x is positive\")\n",
    "else:\n",
    "    print(\"x is not positive\")"
   ]
  },
  {
   "cell_type": "markdown",
   "metadata": {},
   "source": [
    "\n",
    "\n",
    "In the above code, we use an if-else statement to check if the value of `x` is positive or not. If the value of `x` is greater than 0, the code block inside the if statement (i.e. `print(\"x is positive\")`) is executed. Otherwise, the code block inside the else statement (i.e. `print(\"x is not positive\")`) is executed.\n",
    "\n",
    "Note that the code block inside an if or else statement must be indented. In Python, indentation is used to indicate the scope of a code block. The standard convention is to use four spaces for indentation."
   ]
  },
  {
   "cell_type": "markdown",
   "metadata": {},
   "source": [
    "## 08- If elif Statement:\n",
    "\n",
    "-  If-elif-else statements with multiple conditions\n",
    "-  We can use if-elif-else statements with multiple conditions to execute different code blocks based on multiple conditions"
   ]
  },
  {
   "cell_type": "code",
   "execution_count": 17,
   "metadata": {},
   "outputs": [
    {
     "name": "stdout",
     "output_type": "stream",
     "text": [
      "x is a single digit positive number\n"
     ]
    }
   ],
   "source": [
    "# Here's an example:\n",
    "\n",
    "x = 5\n",
    "if x > 0 and x < 10:\n",
    "    print(\"x is a single digit positive number\")\n",
    "elif x >= 10 and x < 100:\n",
    "    print(\"x is a double digit positive number\")\n",
    "elif x >= 100 and x < 1000:\n",
    "    print(\"x is a triple digit positive number\")\n",
    "else:\n",
    "    print(\"x is not a positive number or has more than three digits\")"
   ]
  },
  {
   "cell_type": "markdown",
   "metadata": {},
   "source": [
    "\n",
    "\n",
    "In the above code, we use an if-elif-else statement with multiple conditions to check if the value of `x` is a single digit positive number, a double digit positive number, a triple digit positive number, or not a positive number or has more than three digits. The conditions are checked in the order they are written, and the first condition that is `True` is executed. If none of the conditions are `True`, the code block inside the else statement is executed.\n",
    "\n",
    "Note that the conditions can be combined using logical operators such as `and`, `or`, and `not`. In the above code, we use the `and` operator to check if `x` is greater than 0 and less than 10, greater than or equal to 10 and less than 100, and greater than or equal to 100 and less than 1000."
   ]
  },
  {
   "cell_type": "markdown",
   "metadata": {},
   "source": [
    "## 09- Loops"
   ]
  },
  {
   "cell_type": "markdown",
   "metadata": {},
   "source": [
    "There are two types of loops in Python: `for` loops and `while` loops.\n",
    "\n",
    "- `for` loops: Used to iterate over a sequence (such as a list, tuple, or string) or other iterable objects (such as dictionaries or sets). The loop variable takes on each value in the sequence or iterable object, and the loop body is executed once for each value.\n",
    "\n",
    "- `while` loops: Used to repeatedly execute a block of code as long as a certain condition is `True`. The condition is checked at the beginning of each iteration, and the loop body is executed only if the condition is `True`.\n",
    "\n",
    "Here's an example of how to use a `for` loop in Python:\n",
    "\n"
   ]
  },
  {
   "cell_type": "code",
   "execution_count": 18,
   "metadata": {},
   "outputs": [
    {
     "name": "stdout",
     "output_type": "stream",
     "text": [
      "apple\n",
      "banana\n",
      "cherry\n"
     ]
    }
   ],
   "source": [
    "# For loop example:\n",
    "\n",
    "fruits = [\"apple\", \"banana\", \"cherry\"]\n",
    "for fruit in fruits:\n",
    "    print(fruit)"
   ]
  },
  {
   "cell_type": "markdown",
   "metadata": {},
   "source": [
    "\n",
    "\n",
    "In the above code, we use a `for` loop to iterate over a list of fruits. The loop variable `fruit` takes on each value in the list, and the `print()` function is called once for each value to print the value to the console.\n",
    "\n",
    "Here's an example of how to use a `while` loop in Python:\n",
    "\n"
   ]
  },
  {
   "cell_type": "code",
   "execution_count": 19,
   "metadata": {},
   "outputs": [
    {
     "name": "stdout",
     "output_type": "stream",
     "text": [
      "1\n",
      "2\n",
      "3\n",
      "4\n",
      "5\n"
     ]
    }
   ],
   "source": [
    "# While loop example:\n",
    "\n",
    "i = 1\n",
    "while i <= 5:\n",
    "    print(i)\n",
    "    i += 1"
   ]
  },
  {
   "cell_type": "markdown",
   "metadata": {},
   "source": [
    "\n",
    "\n",
    "In the above code, we use a `while` loop to print the numbers from 1 to 5. The loop condition `i <= 5` is checked at the beginning of each iteration, and the loop body is executed only if the condition is `True`. The loop variable `i` is incremented by 1 at the end of each iteration to ensure that the loop eventually terminates."
   ]
  },
  {
   "cell_type": "markdown",
   "metadata": {},
   "source": [
    ">### Example of for loop to iterate over a Dictionary:"
   ]
  },
  {
   "cell_type": "code",
   "execution_count": 20,
   "metadata": {},
   "outputs": [
    {
     "name": "stdout",
     "output_type": "stream",
     "text": [
      "name: John\n",
      "age: 30\n",
      "city: New York\n"
     ]
    }
   ],
   "source": [
    "# For loop with dictionary\n",
    "# We can use a for loop to iterate over a dictionary\n",
    "# Here's an example:\n",
    "\n",
    "person = {\"name\": \"John\", \"age\": 30, \"city\": \"New York\"}\n",
    "for key, value in person.items():\n",
    "    print(key + \": \" + str(value))"
   ]
  },
  {
   "cell_type": "markdown",
   "metadata": {},
   "source": [
    "\n",
    "\n",
    "In the above code, we use a `for` loop to iterate over a dictionary containing information about a person. The `items()` method is used to get a list of key-value pairs in the dictionary, which are then unpacked into the loop variables `key` and `value`. The `print()` function is called once for each key-value pair to print the key and value to the console.\n",
    "\n",
    "Note that dictionaries are unordered, so the order in which the key-value pairs are printed may not be the same as the order in which they were defined in the dictionary. If you need to process the keys or values in a specific order, you can use the `sorted()` function to sort them before iterating over them."
   ]
  },
  {
   "cell_type": "markdown",
   "metadata": {},
   "source": [
    ">### Difference between while loop & for loop:"
   ]
  },
  {
   "cell_type": "markdown",
   "metadata": {},
   "source": [
    "The main difference between a `while` loop and a `for` loop in Python is the way they iterate.\n",
    "\n",
    "- A `for` loop is used to iterate over a sequence (such as a list, tuple, or string) or other iterable objects (such as dictionaries or sets). The loop variable takes on each value in the sequence or iterable object, and the loop body is executed once for each value.\n",
    "\n",
    "- A `while` loop is used to repeatedly execute a block of code as long as a certain condition is `True`. The condition is checked at the beginning of each iteration, and the loop body is executed only if the condition is `True`.\n",
    "\n",
    "Here's an example of how to use a `for` loop to iterate over a list of numbers:\n",
    "\n"
   ]
  },
  {
   "cell_type": "code",
   "execution_count": 21,
   "metadata": {},
   "outputs": [
    {
     "name": "stdout",
     "output_type": "stream",
     "text": [
      "1\n",
      "2\n",
      "3\n",
      "4\n",
      "5\n"
     ]
    }
   ],
   "source": [
    "# For loop example:\n",
    "\n",
    "numbers = [1, 2, 3, 4, 5]\n",
    "for number in numbers:\n",
    "    print(number)"
   ]
  },
  {
   "cell_type": "markdown",
   "metadata": {},
   "source": [
    "\n",
    "\n",
    "In the above code, we use a `for` loop to iterate over a list of numbers. The loop variable `number` takes on each value in the list, and the `print()` function is called once for each value to print the value to the console.\n",
    "\n",
    "Here's an example of how to use a `while` loop to print the numbers from 1 to 5:\n",
    "\n"
   ]
  },
  {
   "cell_type": "code",
   "execution_count": 22,
   "metadata": {},
   "outputs": [
    {
     "name": "stdout",
     "output_type": "stream",
     "text": [
      "1\n",
      "2\n",
      "3\n",
      "4\n",
      "5\n"
     ]
    }
   ],
   "source": [
    "# While loop example:\n",
    "\n",
    "i = 1\n",
    "while i <= 5:\n",
    "    print(i)\n",
    "    i += 1"
   ]
  },
  {
   "cell_type": "markdown",
   "metadata": {},
   "source": [
    "\n",
    "\n",
    "In the above code, we use a `while` loop to print the numbers from 1 to 5. The loop condition `i <= 5` is checked at the beginning of each iteration, and the loop body is executed only if the condition is `True`. The loop variable `i` is incremented by 1 at the end of each iteration to ensure that the loop eventually terminates.\n",
    "\n",
    "In summary, `for` loops are used to iterate over a sequence or iterable object, while `while` loops are used to repeatedly execute a block of code as long as a certain condition is `True`."
   ]
  },
  {
   "cell_type": "markdown",
   "metadata": {},
   "source": [
    ">### Do while:"
   ]
  },
  {
   "cell_type": "markdown",
   "metadata": {},
   "source": [
    "Python does not have a built-in `do-while` loop like some other programming languages. In Python, you can achieve the same functionality as a `do-while` loop using a `while` loop with a conditional `break` statement.\n",
    "\n",
    "A `do-while` loop is a loop that executes at least once, and then continues to execute as long as a certain condition is `True`. The loop body is executed first, and then the condition is checked. If the condition is `True`, the loop body is executed again, and so on.\n",
    "\n",
    "Here's an example of how to simulate a `do-while` loop in Python using a `while` loop with a conditional `break` statement:\n",
    "\n"
   ]
  },
  {
   "cell_type": "code",
   "execution_count": 23,
   "metadata": {},
   "outputs": [
    {
     "name": "stdout",
     "output_type": "stream",
     "text": [
      "0\n",
      "1\n",
      "2\n",
      "3\n",
      "4\n"
     ]
    }
   ],
   "source": [
    "# Simulating a do-while loop in Python\n",
    "# We can use a while loop with a conditional break statement to simulate a do-while loop\n",
    "# Here's an example:\n",
    "\n",
    "i = 0\n",
    "while True:\n",
    "    print(i)\n",
    "    i += 1\n",
    "    if i >= 5:\n",
    "        break"
   ]
  },
  {
   "cell_type": "markdown",
   "metadata": {},
   "source": [
    "\n",
    "\n",
    "In the above code, we use a `while` loop with a conditional `break` statement to simulate a `do-while` loop that prints the numbers from 0 to 4. The loop body is executed first, and then the condition `i >= 5` is checked. If the condition is `True`, the loop is terminated using the `break` statement. Otherwise, the loop body is executed again, and so on.\n",
    "\n",
    "Note that the `break` statement is used to terminate the loop when the condition is `True`. Without the `break` statement, the loop would continue to execute indefinitely."
   ]
  },
  {
   "cell_type": "markdown",
   "metadata": {},
   "source": [
    "## 10- Functions"
   ]
  },
  {
   "cell_type": "markdown",
   "metadata": {},
   "source": [
    "A function is a block of code that performs a specific task. Functions help break our program into smaller and modular chunks, making it easier to read, test, and maintain. In Python, we define a function using the `def` keyword, followed by the function name, parentheses `()`, and a colon `:`. The code block inside the function is indented and can contain any valid Python code.\n",
    "\n",
    "Here's an example of how to define and call a function in Python:\n",
    "\n"
   ]
  },
  {
   "cell_type": "code",
   "execution_count": 24,
   "metadata": {},
   "outputs": [
    {
     "name": "stdout",
     "output_type": "stream",
     "text": [
      "Hello, Alice!\n",
      "Hello, Bob!\n"
     ]
    }
   ],
   "source": [
    "# Defining and calling a function\n",
    "# We can define a function using the def keyword, followed by the function name, parentheses, and a colon\n",
    "# Here's an example:\n",
    "\n",
    "def greet(name):\n",
    "    print(\"Hello, \" + name + \"!\")\n",
    "\n",
    "greet(\"Alice\")\n",
    "greet(\"Bob\")"
   ]
  },
  {
   "cell_type": "markdown",
   "metadata": {},
   "source": [
    "\n",
    "\n",
    "In the above code, we define a function called `greet` that takes a parameter `name` and prints a greeting message to the console. We call the function twice with different arguments to print a greeting message for two different names.\n",
    "\n",
    "Note that the function definition does not execute the code inside the function. To execute the code inside the function, we need to call the function by its name and pass any required arguments inside the parentheses.\n",
    "\n",
    "Functions can also return a value using the `return` keyword. Here's an example of how to define and call a function that returns a value:\n",
    "\n"
   ]
  },
  {
   "cell_type": "code",
   "execution_count": 25,
   "metadata": {},
   "outputs": [
    {
     "name": "stdout",
     "output_type": "stream",
     "text": [
      "15\n"
     ]
    }
   ],
   "source": [
    "# Defining and calling a function that returns a value\n",
    "# We can define a function that returns a value using the return keyword\n",
    "# Here's an example:\n",
    "\n",
    "def add_numbers(x, y):\n",
    "    return x + y\n",
    "\n",
    "result = add_numbers(5, 10)\n",
    "print(result)"
   ]
  },
  {
   "cell_type": "markdown",
   "metadata": {},
   "source": [
    "\n",
    "\n",
    "In the above code, we define a function called `add_numbers` that takes two parameters `x` and `y` and returns their sum using the `return` keyword. We call the function with two arguments and assign the returned value to a variable called `result`. We then print the value of `result` to the console."
   ]
  },
  {
   "cell_type": "markdown",
   "metadata": {},
   "source": [
    ">### Defining a function with default parameter values:\n",
    "In Python, we can pass default values to function parameters by assigning a default value to the parameter in the function definition. If the function is called without passing a value for that parameter, the default value will be used instead.\n",
    "\n",
    "Here's an example of how to define a function with default parameter values in Python:"
   ]
  },
  {
   "cell_type": "code",
   "execution_count": 26,
   "metadata": {},
   "outputs": [
    {
     "name": "stdout",
     "output_type": "stream",
     "text": [
      "Hello, World!\n",
      "Hello, Alice!\n",
      "Hello, Bob!\n"
     ]
    }
   ],
   "source": [
    "# Defining a function with default parameter values\n",
    "# We can assign a default value to a parameter in the function definition\n",
    "# Here's an example:\n",
    "\n",
    "def greet(name=\"World\"):\n",
    "    print(\"Hello, \" + name + \"!\")\n",
    "\n",
    "greet()\n",
    "greet(\"Alice\")\n",
    "greet(\"Bob\")"
   ]
  },
  {
   "cell_type": "markdown",
   "metadata": {},
   "source": [
    "\n",
    "\n",
    "In the above code, we define a function called `greet` that takes a parameter `name` with a default value of `\"World\"`. If the function is called without passing a value for `name`, the default value of `\"World\"` will be used. We call the function three times with different arguments to print a greeting message for different names.\n",
    "\n",
    "Note that if a value is passed for the parameter, the default value is ignored. If a value is not passed for the parameter, the default value is used."
   ]
  },
  {
   "cell_type": "markdown",
   "metadata": {},
   "source": [
    "## 11- File I/O"
   ]
  },
  {
   "cell_type": "markdown",
   "metadata": {},
   "source": [
    "File I/O (input/output) refers to the process of reading from and writing to files on disk. Python provides built-in functions for working with files, making it easy to read and write data to and from files in various formats.\n",
    "\n",
    "To open a file in Python, we use the built-in `open()` function, which takes two arguments: the file name (including the path) and the mode in which to open the file (read, write, append, etc.). The `open()` function returns a file object, which we can use to read from or write to the file.\n",
    "\n",
    "Here's an example of how to open a file for reading and read its contents in Python:\n",
    "\n"
   ]
  },
  {
   "cell_type": "code",
   "execution_count": null,
   "metadata": {},
   "outputs": [],
   "source": [
    "# Reading from a file\n",
    "# We can open a file for reading using the open() function with mode \"r\"\n",
    "# Here's an example:\n",
    "\n",
    "with open(\"example.txt\", \"r\") as file:\n",
    "    contents = file.read()\n",
    "    print(contents)"
   ]
  },
  {
   "cell_type": "markdown",
   "metadata": {},
   "source": [
    "\n",
    "\n",
    "In the above code, we use the `open()` function to open a file called `example.txt` in read mode (`\"r\"`) using a `with` statement. The `with` statement ensures that the file is properly closed after we're done reading from it. We then use the `read()` method of the file object to read the entire contents of the file into a string variable called `contents`, and print the contents to the console.\n",
    "\n",
    "Here's an example of how to open a file for writing and write data to it in Python:\n",
    "\n"
   ]
  },
  {
   "cell_type": "code",
   "execution_count": 28,
   "metadata": {},
   "outputs": [],
   "source": [
    "# Writing to a file\n",
    "# We can open a file for writing using the open() function with mode \"w\"\n",
    "# Here's an example:\n",
    "\n",
    "with open(\"example.txt\", \"w\") as file:\n",
    "    file.write(\"Hello, world!\")"
   ]
  },
  {
   "cell_type": "markdown",
   "metadata": {},
   "source": [
    "\n",
    "\n",
    "In the above code, we use the `open()` function to open a file called `example.txt` in write mode (`\"w\"`) using a `with` statement. The `with` statement ensures that the file is properly closed after we're done writing to it. We then use the `write()` method of the file object to write the string `\"Hello, world!\"` to the file.\n",
    "\n",
    "Note that when we open a file in write mode, any existing contents of the file are overwritten. If we want to append data to the end of the file instead of overwriting it, we can open the file in append mode (`\"a\"`) instead of write mode. The `\"\\n\"` character is used to add a newline before the appended text.\n",
    "\n",
    "Here is an example."
   ]
  },
  {
   "cell_type": "code",
   "execution_count": 29,
   "metadata": {},
   "outputs": [],
   "source": [
    "# Appending to a file\n",
    "# We can open a file for appending using the open() function with mode \"a\"\n",
    "# We can then use the write() method of the file object to append data to the file\n",
    "# Here's an example:\n",
    "\n",
    "with open(\"example.txt\", \"a\") as file:\n",
    "    file.write(\"\\nHow are you today?\")"
   ]
  },
  {
   "cell_type": "markdown",
   "metadata": {},
   "source": [
    ">### Approaches of Reading File:\n",
    "\n",
    "When reading a file in Python, there are two common approaches: reading the file line by line, or reading the entire file at once.\n",
    "\n",
    "Reading the file line by line is useful when working with large files, as it allows you to process the file one line at a time without loading the entire file into memory. This can be more memory-efficient and faster than reading the entire file at once, especially for very large files.\n",
    "\n",
    "Here's an example of how to read a file line by line in Python:\n"
   ]
  },
  {
   "cell_type": "code",
   "execution_count": 30,
   "metadata": {},
   "outputs": [
    {
     "name": "stdout",
     "output_type": "stream",
     "text": [
      "Hello, world!\n",
      "\n",
      "How are you today?\n"
     ]
    }
   ],
   "source": [
    "# Reading a file line by line\n",
    "# We can read a file line by line using a for loop\n",
    "# Here's an example:\n",
    "\n",
    "with open(\"example.txt\", \"r\") as file:\n",
    "    for line in file:\n",
    "        print(line)"
   ]
  },
  {
   "cell_type": "markdown",
   "metadata": {},
   "source": [
    "\n",
    "\n",
    "In the above code, we use a `with` statement to open a file called `example.txt` in read mode (`\"r\"`) and iterate over the file object using a `for` loop. The loop variable `line` takes on each line in the file, and the `print()` function is called once for each line to print the line to the console.\n",
    "\n",
    "Reading the entire file at once is useful when working with small files or when you need to process the entire file as a single unit. This approach can be simpler and more convenient than reading the file line by line, especially for small files.\n",
    "\n",
    "Here's an example of how to read the entire file at once in Python:\n",
    "\n"
   ]
  },
  {
   "cell_type": "code",
   "execution_count": 31,
   "metadata": {},
   "outputs": [
    {
     "name": "stdout",
     "output_type": "stream",
     "text": [
      "Hello, world!\n",
      "How are you today?\n"
     ]
    }
   ],
   "source": [
    "# Reading the entire file at once\n",
    "# We can read the entire file at once using the read() method\n",
    "# Here's an example:\n",
    "\n",
    "with open(\"example.txt\", \"r\") as file:\n",
    "    contents = file.read()\n",
    "    print(contents)"
   ]
  },
  {
   "cell_type": "markdown",
   "metadata": {},
   "source": [
    "\n",
    "\n",
    "In the above code, we use a `with` statement to open a file called `example.txt` in read mode (`\"r\"`) and use the `read()` method of the file object to read the entire contents of the file into a string variable called `contents`. We then print the contents to the console.\n",
    "\n",
    "Note that when reading the entire file at once, the entire contents of the file are loaded into memory, which can be a problem for very large files that don't fit into memory. In such cases, it's better to read the file line by line or in smaller chunks."
   ]
  },
  {
   "cell_type": "markdown",
   "metadata": {},
   "source": [
    "<a name=\"12\"></a>\n",
    "## 12- [Error Handling:](https://github.com/AbdulRehman-git/DataScience_Wizard-Tips-Tricks-and-Tutorials/blob/main/Python_Magic%3AA-Beginner's-Guide-to-Python's-Charm.ipynb)"
   ]
  },
  {
   "cell_type": "markdown",
   "metadata": {},
   "source": [
    "Error handling is the process of anticipating, detecting, and resolving errors in a program. In Python, errors and exceptions are represented as objects, and can be handled using the `try` and `except` statements.\n",
    "\n",
    "The `try` statement is used to enclose a block of code that might raise an exception. If an exception is raised, the `except` statement is used to handle the exception and prevent the program from crashing.\n",
    "\n",
    "Here's an example of how to use the `try` and `except` statements in Python:\n",
    "\n"
   ]
  },
  {
   "cell_type": "code",
   "execution_count": 32,
   "metadata": {},
   "outputs": [
    {
     "name": "stdout",
     "output_type": "stream",
     "text": [
      "Error: division by zero\n"
     ]
    }
   ],
   "source": [
    "# Error handling with try and except\n",
    "# We can use the try and except statements to handle errors and exceptions in Python\n",
    "# Here's an example:\n",
    "\n",
    "try:\n",
    "    x = 1 / 0\n",
    "except ZeroDivisionError:\n",
    "    print(\"Error: division by zero\")"
   ]
  },
  {
   "cell_type": "markdown",
   "metadata": {},
   "source": [
    "\n",
    "\n",
    "In the above code, we use a `try` statement to enclose a block of code that might raise a `ZeroDivisionError` exception (dividing by zero). If an exception is raised, the `except` statement is used to handle the exception and print an error message to the console.\n",
    "\n",
    "Note that the `except` statement specifies the type of exception to handle (`ZeroDivisionError` in this case). If the exception raised is not of the specified type, the `except` statement will not handle it and the program will crash.\n",
    "\n",
    "We can also use the `finally` statement to specify a block of code that should be executed regardless of whether an exception is raised or not. Here's an example:\n",
    "\n"
   ]
  },
  {
   "cell_type": "code",
   "execution_count": 33,
   "metadata": {},
   "outputs": [
    {
     "name": "stdout",
     "output_type": "stream",
     "text": [
      "Error: division by zero\n",
      "This code will always be executed\n"
     ]
    }
   ],
   "source": [
    "# Error handling with try, except, and finally\n",
    "# We can use the try, except, and finally statements to handle errors and exceptions in Python\n",
    "# Here's an example:\n",
    "\n",
    "try:\n",
    "    x = 1 / 0\n",
    "except ZeroDivisionError:\n",
    "    print(\"Error: division by zero\")\n",
    "finally:\n",
    "    print(\"This code will always be executed\")"
   ]
  },
  {
   "cell_type": "markdown",
   "metadata": {},
   "source": [
    "\n",
    "\n",
    "In the above code, we use a `try` statement to enclose a block of code that might raise a `ZeroDivisionError` exception. If an exception is raised, the `except` statement is used to handle the exception and print an error message to the console. The `finally` statement is used to specify a block of code that should be executed regardless of whether an exception is raised or not. In this case, the `finally` block prints a message to the console.\n",
    "\n",
    "Note that the `finally` block is optional, and can be omitted if you don't need to execute any code after the `try` and `except` blocks."
   ]
  },
  {
   "cell_type": "markdown",
   "metadata": {},
   "source": [
    "## The End\n",
    "\n",
    "Happy Learning!"
   ]
  }
 ],
 "metadata": {
  "kernelspec": {
   "display_name": "base",
   "language": "python",
   "name": "python3"
  },
  "language_info": {
   "codemirror_mode": {
    "name": "ipython",
    "version": 3
   },
   "file_extension": ".py",
   "mimetype": "text/x-python",
   "name": "python",
   "nbconvert_exporter": "python",
   "pygments_lexer": "ipython3",
   "version": "3.9.13"
  },
  "orig_nbformat": 4
 },
 "nbformat": 4,
 "nbformat_minor": 2
}
